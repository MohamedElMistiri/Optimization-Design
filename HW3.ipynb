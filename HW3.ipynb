{
 "cells": [
  {
   "cell_type": "code",
   "execution_count": 1,
   "metadata": {},
   "outputs": [],
   "source": [
    "# Author Mohamed El Mistiri\n",
    "# MAE 598\n",
    "\n",
    "## problem 2:\n",
    "\n",
    "import numpy as np\n",
    "from bayes_opt import BayesianOptimization\n",
    "\n",
    "def Objective(x1,x2):\n",
    "    obj = (4 - 2.1*x1**2 + (x1**4)/3)*x1**2 + x1*x2 +  (-4 + 4*x2**2)*x2**2\n",
    "    return obj"
   ]
  }
 ],
 "metadata": {
  "kernelspec": {
   "display_name": "Python 3.10.4 ('HW3env': venv)",
   "language": "python",
   "name": "python3"
  },
  "language_info": {
   "codemirror_mode": {
    "name": "ipython",
    "version": 3
   },
   "file_extension": ".py",
   "mimetype": "text/x-python",
   "name": "python",
   "nbconvert_exporter": "python",
   "pygments_lexer": "ipython3",
   "version": "3.10.4"
  },
  "orig_nbformat": 4,
  "vscode": {
   "interpreter": {
    "hash": "987ae5a513266e42e2b606ae435c300a067996cf4d210294800354c0f2e454d5"
   }
  }
 },
 "nbformat": 4,
 "nbformat_minor": 2
}
